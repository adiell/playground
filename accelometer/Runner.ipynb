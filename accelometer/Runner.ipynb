{
 "cells": [
  {
   "cell_type": "code",
   "execution_count": 1,
   "metadata": {},
   "outputs": [
    {
     "name": "stderr",
     "output_type": "stream",
     "text": [
      "Using TensorFlow backend.\n"
     ]
    }
   ],
   "source": [
    "import pandas as pd\n",
    "import matplotlib.pyplot as plt\n",
    "from sklearn.metrics import confusion_matrix\n",
    "from utils import *"
   ]
  },
  {
   "cell_type": "code",
   "execution_count": 2,
   "metadata": {},
   "outputs": [],
   "source": [
    "import keras\n",
    "from keras.models import Sequential\n",
    "from keras.layers import Dense, Dropout, Input\n",
    "from keras.layers import LSTM"
   ]
  },
  {
   "cell_type": "code",
   "execution_count": 4,
   "metadata": {},
   "outputs": [
    {
     "name": "stdout",
     "output_type": "stream",
     "text": [
      "/home/ec2-user/SageMaker/playground/accelometer\n",
      "./HMP_Dataset/logs/lstm/events.out.tfevents.1545314849.adiell-e5480\n",
      "./HMP_Dataset/logs/lstm/events.out.tfevents.1545312022.adiell-e5480\n",
      "./HMP_Dataset/logs/lstm/events.out.tfevents.1545314347.adiell-e5480\n",
      "./HMP_Dataset/logs/lstm/events.out.tfevents.1545546849.adiell-e5480\n",
      "./HMP_Dataset/logs/lstm/events.out.tfevents.1545312009.adiell-e5480\n",
      "./HMP_Dataset/logs/32/events.out.tfevents.1545311548.adiell-e5480\n",
      "CPU times: user 1.13 s, sys: 237 ms, total: 1.37 s\n",
      "Wall time: 1.37 s\n"
     ]
    }
   ],
   "source": [
    "%%time\n",
    "X_train, X_test, Y_train, Y_test, encoder = load_data()\n"
   ]
  },
  {
   "cell_type": "code",
   "execution_count": 5,
   "metadata": {},
   "outputs": [],
   "source": [
    "output_size = Y_train.shape[1]\n",
    "input_shape = (X_train.shape[1], X_train.shape[2],)"
   ]
  },
  {
   "cell_type": "code",
   "execution_count": 6,
   "metadata": {},
   "outputs": [
    {
     "name": "stdout",
     "output_type": "stream",
     "text": [
      "_________________________________________________________________\n",
      "Layer (type)                 Output Shape              Param #   \n",
      "=================================================================\n",
      "lstm_1 (LSTM)                (None, 128)               67584     \n",
      "_________________________________________________________________\n",
      "dense_1 (Dense)              (None, 23)                2967      \n",
      "=================================================================\n",
      "Total params: 70,551\n",
      "Trainable params: 70,551\n",
      "Non-trainable params: 0\n",
      "_________________________________________________________________\n"
     ]
    }
   ],
   "source": [
    "early_stop = keras.callbacks.EarlyStopping(monitor='val_loss', patience=3)\n",
    "\n",
    "rnn_model = Sequential()\n",
    "\n",
    "rnn_model.add(LSTM(128, input_shape=input_shape))\n",
    "rnn_model.add(Dense(output_size, activation='softmax'))\n",
    "\n",
    "rnn_model.compile(loss='categorical_crossentropy',\n",
    "              metrics=['accuracy'], optimizer=Adam())\n",
    "\n",
    "rnn_model.summary()\n",
    "\n"
   ]
  },
  {
   "cell_type": "code",
   "execution_count": 7,
   "metadata": {},
   "outputs": [
    {
     "name": "stdout",
     "output_type": "stream",
     "text": [
      "Train on 738 samples, validate on 247 samples\n",
      "Epoch 1/1\n",
      "738/738 [==============================] - 327s 443ms/step - loss: 2.9072 - acc: 0.1341 - val_loss: 2.6107 - val_acc: 0.2348\n",
      "CPU times: user 7min 25s, sys: 3min 17s, total: 10min 43s\n",
      "Wall time: 5min 28s\n"
     ]
    },
    {
     "data": {
      "text/plain": [
       "<keras.callbacks.History at 0x7f4330f2dc88>"
      ]
     },
     "execution_count": 7,
     "metadata": {},
     "output_type": "execute_result"
    }
   ],
   "source": [
    "%%time\n",
    "rnn_model.fit(\n",
    "    X_train, Y_train,\n",
    "    epochs = 1,\n",
    "    batch_size = 32,\n",
    "    validation_data = (X_test, Y_test),\n",
    "    verbose = True,\n",
    "    shuffle = False,\n",
    "    callbacks = [early_stop]\n",
    ")"
   ]
  },
  {
   "cell_type": "code",
   "execution_count": null,
   "metadata": {},
   "outputs": [],
   "source": []
  }
 ],
 "metadata": {
  "kernelspec": {
   "display_name": "conda_tensorflow_p36",
   "language": "python",
   "name": "conda_tensorflow_p36"
  },
  "language_info": {
   "codemirror_mode": {
    "name": "ipython",
    "version": 3
   },
   "file_extension": ".py",
   "mimetype": "text/x-python",
   "name": "python",
   "nbconvert_exporter": "python",
   "pygments_lexer": "ipython3",
   "version": "3.6.5"
  }
 },
 "nbformat": 4,
 "nbformat_minor": 2
}
